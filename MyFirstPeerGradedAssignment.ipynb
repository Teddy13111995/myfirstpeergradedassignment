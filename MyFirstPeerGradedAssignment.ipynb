{
 "cells": [
  {
   "cell_type": "markdown",
   "id": "0f501e26",
   "metadata": {},
   "source": [
    "My first peer graded assignment"
   ]
  },
  {
   "cell_type": "markdown",
   "id": "5517c644",
   "metadata": {},
   "source": [
    "Hi, this is my first peer graded assignment. I hope you like it."
   ]
  },
  {
   "cell_type": "markdown",
   "id": "e5d1f6f8",
   "metadata": {},
   "source": [
    "Data Science languages are:\n",
    "-  Python\n",
    "-  SQL\n",
    "-  R"
   ]
  },
  {
   "cell_type": "markdown",
   "id": "2658d52f",
   "metadata": {},
   "source": [
    "|Data science libraries|\n",
    "|---|\n",
    "|Pandas,NumPy|\n",
    "|Matplotlib, Seaborn|\n",
    "|Scikit-learn, keras|"
   ]
  },
  {
   "cell_type": "markdown",
   "id": "00d6c470",
   "metadata": {},
   "source": [
    "|Data Science Tools|\n",
    "|---|\n",
    "|Watson Studio|\n",
    "|Hue|\n",
    "|R-Studio|"
   ]
  },
  {
   "cell_type": "markdown",
   "id": "da3732cd",
   "metadata": {},
   "source": [
    "Airthmetic Example:\n",
    "In [_]: 4+2\n",
    "Out [ ]: 6"
   ]
  },
  {
   "cell_type": "code",
   "execution_count": 2,
   "id": "24974dae",
   "metadata": {},
   "outputs": [
    {
     "data": {
      "text/plain": [
       "20"
      ]
     },
     "execution_count": 2,
     "metadata": {},
     "output_type": "execute_result"
    }
   ],
   "source": [
    "4*5"
   ]
  },
  {
   "cell_type": "code",
   "execution_count": 3,
   "id": "cde344a3",
   "metadata": {},
   "outputs": [
    {
     "data": {
      "text/plain": [
       "7"
      ]
     },
     "execution_count": 3,
     "metadata": {},
     "output_type": "execute_result"
    }
   ],
   "source": [
    "2+5"
   ]
  },
  {
   "cell_type": "code",
   "execution_count": 6,
   "id": "659e07eb",
   "metadata": {},
   "outputs": [],
   "source": [
    "minutes = 300\n",
    "hours = minutes / 60"
   ]
  },
  {
   "cell_type": "markdown",
   "id": "98749066",
   "metadata": {},
   "source": [
    "Objectives:\n",
    "1. Exercise 2 - Create a markdown cell with the title of the notebook. (1 pt)\n",
    "2. Exercise 3 - Create a markdown cell for an introduction. (1 pt)\n",
    "3. Exercise 4 - Create a markdown cell to list data science languages. (3 pts)\n",
    "4. Exercise 5 - Create a markdown cell to list data science libraries. (3 pts)\n",
    "5. Exercise 6 - Create a markdown cell with a table of Data Science tools. (3 pts)\n",
    "6. Exercise 7 - Create a markdown cell introducing arithmetic expression examples. (1 pt)\n",
    "7. Exercise 8 - Create a code cell to multiply and add numbers.(2 pts)\n",
    "8. Exercise 9 - Create a code cell to convert minutes to hours. (2 pts)\n",
    "9. Exercise 10 -Insert a markdown cell to list Objectives. (3 pts)\n",
    "10. Exercise 11 - Create a markdown cell to indicate the Author’s name. (2 pts)\n",
    "11. Exercise 12 - Share your notebook through GitHub (3 pts)\n",
    "12. Exercise 13 - Take a screenshot of the first page of the notebook. (1 pt)\n"
   ]
  },
  {
   "cell_type": "markdown",
   "id": "57a79b7c",
   "metadata": {},
   "source": [
    "BY SRIJAN GUPTA"
   ]
  }
 ],
 "metadata": {
  "kernelspec": {
   "display_name": "Python 3 (ipykernel)",
   "language": "python",
   "name": "python3"
  },
  "language_info": {
   "codemirror_mode": {
    "name": "ipython",
    "version": 3
   },
   "file_extension": ".py",
   "mimetype": "text/x-python",
   "name": "python",
   "nbconvert_exporter": "python",
   "pygments_lexer": "ipython3",
   "version": "3.9.13"
  }
 },
 "nbformat": 4,
 "nbformat_minor": 5
}
